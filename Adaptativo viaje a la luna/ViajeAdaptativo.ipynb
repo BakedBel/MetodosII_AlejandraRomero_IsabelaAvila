{
 "cells": [
  {
   "cell_type": "code",
   "execution_count": 48,
   "metadata": {},
   "outputs": [],
   "source": [
    "\n",
    "import numpy as np\n",
    "import matplotlib.pyplot as plt\n",
    "from scipy import integrate\n",
    "import matplotlib.animation as anim\n",
    "from tqdm import tqdm"
   ]
  },
  {
   "cell_type": "code",
   "execution_count": 49,
   "metadata": {},
   "outputs": [],
   "source": [
    "#Asignar constantes del sistema\n",
    "G = 6.67e-11\n",
    "MT = 5.9736e24\n",
    "ML = 0.07349e24\n",
    "dTL = 3.844e8\n",
    "w = 2.6617e-6\n",
    "RT = 6.37816e6\n",
    "RL = 1.7374e6"
   ]
  },
  {
   "cell_type": "code",
   "execution_count": 50,
   "metadata": {},
   "outputs": [],
   "source": [
    "def System(coord,t):\n",
    "\n",
    "    Pr, P_phi,r, phi = coord\n",
    "    Delta = G*MT/dTL**3\n",
    "    miu = ML/MT\n",
    "    r_prima = np.sqrt(1 + r**2 - 2*r*np.cos(phi-w*t))\n",
    "\n",
    "    drdt = Pr\n",
    "    dphidt = P_phi/r**2\n",
    "    dPrdt = P_phi**2/r**3 - Delta*(1/r**2 + (miu/r_prima**3)*(r - np.cos(phi-w*t)))\n",
    "    dP_phidt = -Delta*miu*r/(r_prima**3)*np.sin(phi-w*t)\n",
    "\n",
    "    return np.array([dPrdt, dP_phidt, drdt, dphidt])"
   ]
  },
  {
   "cell_type": "code",
   "execution_count": 51,
   "metadata": {},
   "outputs": [],
   "source": [
    "def Increment(f,r,t,h):\n",
    "    \n",
    "    state1 = np.array([r[0],r[1],r[2],r[3]])\n",
    "    K1 = f(state1,t)\n",
    "    \n",
    "    state2 = np.array([r[0]+0.5*h*K1[0],r[1]+0.5*h*K1[1],r[2]+0.5*h*K1[2],r[3]+0.5*h*K1[3]])\n",
    "    K2 = f(state2,t+0.5*h)\n",
    "    \n",
    "    state3 = np.array([r[0]+0.5*h*K2[0],r[1]+0.5*h*K2[1],r[2]+0.5*h*K2[2],r[3]+0.5*h*K2[3]])\n",
    "    K3 = f(state3,t+0.5*h)\n",
    "    \n",
    "    state4 = np.array([r[0]+h*K3[0],r[1]+h*K3[1],r[2]+h*K3[2],r[3]+h*K3[3]])\n",
    "    K4 = f(state4, t+h)\n",
    "    \n",
    "    Deltaf = h*(K1+2*K2+2*K3+K4)/6\n",
    "    \n",
    "    return r+Deltaf"
   ]
  },
  {
   "cell_type": "code",
   "execution_count": 52,
   "metadata": {},
   "outputs": [],
   "source": [
    "def Adaptativo(f,r0,t,e=1e-4):\n",
    "    \n",
    "    h = t[1] - t[0]\n",
    "    \n",
    "    tf = t[-1]\n",
    "    t = t[0]\n",
    "    \n",
    "    r = r0\n",
    "    \n",
    "    Time = np.array([t])\n",
    "    Vector = r \n",
    "    Steps = np.array([h])\n",
    "\n",
    "    while t < tf:\n",
    "        \n",
    "        Delta1 = Increment(f,r,t,h)\n",
    "        Delta2 = Increment(f,Delta1,t+h,h)\n",
    "        Delta3 = Increment(f,r,t,2*h)\n",
    " \n",
    "        error=  np.linalg.norm(Delta2- Delta3)\n",
    "        \n",
    "        if error < e:\n",
    "                t += 2*h\n",
    "                r = Delta3       \n",
    "                Steps = np.append(Steps,h )\n",
    "                Time = np.append(Time,t)\n",
    "                Vector = np.vstack((Vector,r))\n",
    "                \n",
    " \n",
    "\n",
    " \n",
    "        z = 0.85*(e/error)**(1/4)\n",
    "        h = h*z\n",
    "\n",
    " \n",
    "\n",
    "              \n",
    "        \n",
    "    return Time,Vector"
   ]
  },
  {
   "cell_type": "code",
   "execution_count": 53,
   "metadata": {},
   "outputs": [],
   "source": [
    "t = np.arange(0.,1e6,1)\n",
    "v0 = 11.1e3/dTL\n",
    "phi0 = 0*np.pi/180\n",
    "theta0 = 30*np.pi/180\n",
    "r0 = RT/dTL\n",
    "Pr, p_phi=( v0*np.cos(theta0-phi0), v0*r0*np.sin(theta0-phi0))\n",
    "coord = [Pr, p_phi, r0, phi0]"
   ]
  },
  {
   "cell_type": "code",
   "execution_count": 54,
   "metadata": {},
   "outputs": [
    {
     "name": "stdout",
     "output_type": "stream",
     "text": [
      "Total de pasos:  96\n"
     ]
    }
   ],
   "source": [
    "adap = Adaptativo(System,coord,t)\n",
    "tsol = adap[0]\n",
    "print('Total de pasos: ', len(tsol))\n",
    "sol = adap[1]\n",
    "#Establecer coordenadas x y y de la luna y el satelite\n",
    "xL = dTL*np.cos(w*tsol)\n",
    "yL = dTL*np.sin(w*tsol)\n",
    "xS = sol[:,2]*np.cos(sol[:,3])*dTL\n",
    "yS = sol[:,2]*np.sin(sol[:,3])*dTL"
   ]
  },
  {
   "cell_type": "code",
   "execution_count": 55,
   "metadata": {},
   "outputs": [
    {
     "data": {
      "image/png": "[encoded data removed]",
      "text/plain": [
       "<Figure size 500x500 with 1 Axes>"
      ]
     },
     "metadata": {},
     "output_type": "display_data"
    }
   ],
   "source": [
    "fig = plt.figure(figsize=(5,5))\n",
    "ax = fig.add_subplot()\n",
    "T = tsol*(1/86400)\n",
    "\n",
    "def init():\n",
    "    \n",
    "    ax.clear()\n",
    "    ax.set_xlim(-4e8,4e8)\n",
    "    ax.set_ylim(-4e8,4e8)\n",
    "    \n",
    "def Update(i):\n",
    "    \n",
    "    init()\n",
    "        \n",
    "    ax.scatter(xL[i], yL[i], color='k')\n",
    "    ax.scatter(0,0, color='b')\n",
    "    ax.set_title(\"t = {:.4f} dias terrestres\".format(T[i]))\n",
    "    ax.scatter(xS[i],yS[i], color='red')\n",
    "    \n",
    "        \n",
    "        \n",
    "Animation = anim.FuncAnimation(fig,Update,frames=len(tsol),init_func=init)"
   ]
  },
  {
   "cell_type": "code",
   "execution_count": 56,
   "metadata": {},
   "outputs": [],
   "source": [
    "Animation.save('ViajeLunaAdap.gif', writer='pillow')"
   ]
  }
 ],
 "metadata": {
  "kernelspec": {
   "display_name": "Python 3 (ipykernel)",
   "language": "python",
   "name": "python3"
  },
  "language_info": {
   "codemirror_mode": {
    "name": "ipython",
    "version": 3
   },
   "file_extension": ".py",
   "mimetype": "text/x-python",
   "name": "python",
   "nbconvert_exporter": "python",
   "pygments_lexer": "ipython3",
   "version": "3.11.5"
  }
 },
 "nbformat": 4,
 "nbformat_minor": 2
}
