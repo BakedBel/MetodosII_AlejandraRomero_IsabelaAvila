{
  "cells": [
    {
      "cell_type": "code",
      "execution_count": 1,
      "id": "693efd9e",
      "metadata": {
        "id": "693efd9e"
      },
      "outputs": [],
      "source": [
        "\n",
        "import numpy as np\n",
        "import matplotlib.pyplot as plt\n",
        "import matplotlib.animation as anim\n",
        "from tqdm import tqdm"
      ]
    },
    {
      "cell_type": "code",
      "execution_count": 2,
      "id": "4db3fba5",
      "metadata": {
        "id": "4db3fba5"
      },
      "outputs": [],
      "source": [
        "import numpy as np\n",
        "\n",
        "class Particle:\n",
        "\n",
        "    def __init__(self, r0, v0, a0, t, m=1, radius=2., Id=0):\n",
        "\n",
        "        self.dt = t[1] - t[0]\n",
        "\n",
        "        # Atributos instantaneos\n",
        "        self.r = r0\n",
        "        self.v = v0\n",
        "        self.a = a0\n",
        "\n",
        "        self.m = m\n",
        "        self.radius = radius\n",
        "        self.Id = Id\n",
        "\n",
        "        self.p = self.m*self.v\n",
        "        self.f = self.m*self.a\n",
        "\n",
        "        # Historial\n",
        "        self.R = np.zeros((len(t),len(r0)))\n",
        "        self.V = np.zeros_like(self.R)\n",
        "        self.A = np.zeros_like(self.R)\n",
        "        self.F = np.zeros_like(self.R)\n",
        "        self.P = np.zeros_like(self.R)\n",
        "\n",
        "        # Fisica\n",
        "        self.K = 20.\n",
        "        self.VEk = np.zeros(len(t))\n",
        "\n",
        "        # Gravedad\n",
        "        self.gravity = np.array([0, -9.8])  # Aceleración debida a la gravedad\n",
        "\n",
        "    def Evolution(self, i):\n",
        "        self.SetPosition(i)\n",
        "        self.SetVelocity(i)\n",
        "\n",
        "        # Actualizar aceleración con la gravedad\n",
        "        self.a = self.f / self.m + self.gravity\n",
        "\n",
        "        # Euler-Cromer\n",
        "        self.v += self.dt * self.a\n",
        "        self.r += self.dt * self.v\n",
        "\n",
        "    def CalculateForce(self, p):\n",
        "        d = np.linalg.norm(self.r - p.r)\n",
        "        compresion = self.radius + p.radius - d\n",
        "\n",
        "        if compresion >= 0:\n",
        "            Fn = self.K * compresion**3\n",
        "            self.n = (self.r - p.r) / d\n",
        "            self.f = np.add(self.f, Fn * self.n)\n",
        "            # Falta implementar energía potencial\n",
        "\n",
        "    def ResetForce(self):\n",
        "        self.f[:] = 0.\n",
        "        self.a[:] = 0.\n",
        "\n",
        "    def SetPosition(self, i):\n",
        "        self.R[i] = self.r\n",
        "\n",
        "    def SetVelocity(self, i):\n",
        "        self.V[i] = self.v\n",
        "        self.P[i] = self.m * self.v\n",
        "        self.VEk[i] = 0.5 * self.m * np.dot(self.v, self.v)\n",
        "\n",
        "    def GetPosition(self, scale=1):\n",
        "        return self.R[::scale]\n",
        "\n",
        "    def GetVelocity(self, scale=1):\n",
        "        return self.V[::scale]\n",
        "\n",
        "    def GetMomentum(self, scale=1):\n",
        "        return self.P[::scale]\n",
        "\n",
        "    def GetKineticEnergy(self, scale=1):\n",
        "        return self.VEk[::scale]\n",
        "\n",
        "    def CheckLimits(self):\n",
        "        for i in range(2):\n",
        "            if self.r[i] + self.radius > 20 and self.v[i] > 0.:\n",
        "                self.v[i] = -self.v[i] * 0.9\n",
        "            elif self.r[i] - self.radius < -20 and self.v[i] < 0.:\n",
        "                self.v[i] = -self.v[i] * 0.9\n",
        "\n",
        "\n"
      ]
    },
    {
      "cell_type": "code",
      "execution_count": 3,
      "id": "372e6b52",
      "metadata": {
        "id": "372e6b52"
      },
      "outputs": [],
      "source": [
        "def GetParticles(N,t):\n",
        "\n",
        "    r0 = np.array([-15.,-10.])\n",
        "    v0 = np.array([2.,0])\n",
        "    a0 = np.array([0.,0.])\n",
        "\n",
        "    p0 = Particle(r0,v0,a0,t,m=1,radius=2,Id=0)\n",
        "\n",
        "    Particles = [p0]\n",
        "\n",
        "    # Aca deber agregar una rutina montecarlo para crear particulas\n",
        "    # sobre el plano con velocidades aleatorias.\n",
        "\n",
        "    return Particles"
      ]
    },
    {
      "cell_type": "code",
      "execution_count": 4,
      "id": "56e67631",
      "metadata": {
        "id": "56e67631"
      },
      "outputs": [],
      "source": [
        "dt = 0.001\n",
        "tmax = 30\n",
        "t = np.arange(0,tmax,dt)\n",
        "Particles = GetParticles(1,t)"
      ]
    },
    {
      "cell_type": "code",
      "execution_count": 5,
      "id": "edf88a8c",
      "metadata": {
        "id": "edf88a8c"
      },
      "outputs": [],
      "source": [
        "def RunSimulation(t,Particles):\n",
        "\n",
        "    for it in tqdm(range(len(t)), desc='Running simulation', unit=' Steps' ):\n",
        "\n",
        "        for i in range(len(Particles)):\n",
        "            for j in range(len(Particles)):\n",
        "                if i!=j:\n",
        "                    Particles[i].CalculateForce(Particles[j])\n",
        "\n",
        "        for i in range(len(Particles)):\n",
        "            Particles[i].Evolution(it)\n",
        "            Particles[i].ResetForce()\n",
        "            Particles[i].CheckLimits()\n",
        "            # Aca debes agregar la interaccion con la pared\n",
        "\n",
        "\n",
        "    return Particles"
      ]
    },
    {
      "cell_type": "code",
      "execution_count": 6,
      "id": "bcac242d",
      "metadata": {
        "colab": {
          "base_uri": "https://localhost:8080/"
        },
        "id": "bcac242d",
        "outputId": "2ba18061-f0f5-43c9-dcfa-c59a08b37e8b"
      },
      "outputs": [
        {
          "output_type": "stream",
          "name": "stderr",
          "text": [
            "Running simulation: 100%|██████████| 30000/30000 [00:00<00:00, 49917.37 Steps/s]\n"
          ]
        }
      ],
      "source": [
        "Particles = RunSimulation(t,Particles)"
      ]
    },
    {
      "cell_type": "code",
      "execution_count": 7,
      "id": "32609fcd",
      "metadata": {
        "id": "32609fcd"
      },
      "outputs": [],
      "source": [
        "# Bajamos dimensión de la simulacion\n",
        "scale = 100\n",
        "t1 = t[::scale]"
      ]
    },
    {
      "cell_type": "code",
      "execution_count": 17,
      "id": "97ba705a",
      "metadata": {
        "colab": {
          "base_uri": "https://localhost:8080/",
          "height": 507
        },
        "id": "97ba705a",
        "outputId": "1ffc06cc-2d10-43ea-a6fd-882866f2ddb6"
      },
      "outputs": [
        {
          "output_type": "stream",
          "name": "stderr",
          "text": [
            "/usr/local/lib/python3.10/dist-packages/matplotlib/animation.py:884: UserWarning: Animation was deleted without rendering anything. This is most likely not intended. To prevent deletion, assign the Animation to a variable, e.g. `anim`, that exists until you output the Animation using `plt.show()` or `anim.save()`.\n",
            "  warnings.warn(\n"
          ]
        },
        {
          "output_type": "display_data",
          "data": {
            "text/plain": [
              "<Figure size 1000x500 with 2 Axes>"
            ],
            "image/png": "[encoded data removed]"
          },
          "metadata": {}
        }
      ],
      "source": [
        "\n",
        "fig, (ax1, ax2) = plt.subplots(1, 2, figsize=(10, 5))\n",
        "\n",
        "\n",
        "def init():\n",
        "    ax1.clear()\n",
        "    ax1.set_xlim(-20, 20)\n",
        "    ax1.set_ylim(-20, 20)\n",
        "    ax1.set_title('Particle Animation')\n",
        "\n",
        "\n",
        "def update(i):\n",
        "    init()\n",
        "    ax1.set_title(r'Tiempo: %.3f s' % (t1[i]))\n",
        "\n",
        "    kinetic_energy = 0\n",
        "\n",
        "    for particle in Particles:\n",
        "        x = particle.positions[i, 0]\n",
        "        y = particle.positions[i, 1]\n",
        "\n",
        "        vx = particle.velocities[i, 0]\n",
        "        vy = particle.velocities[i, 1]\n",
        "\n",
        "        circle = plt.Circle((x, y), particle.radius, color='r', fill=False)\n",
        "        ax1.add_patch(circle)\n",
        "\n",
        "        ax1.arrow(x, y, vx, vy, color='k', head_width=0.5, length_includes_head=True)\n",
        "\n",
        "        kinetic_energy += particle.kinetic_energy[i]\n",
        "\n",
        "        ax2.set_title('Energía Cinética Total: {:.3f}'.format(kinetic_energy))\n",
        "        ax2.scatter(t1[:i], particle.kinetic_energy[:i], color='k', marker='.')\n",
        "\n",
        "\n",
        "animation = anim.FuncAnimation(fig, update, frames=len(t1), init_func=init)\n",
        "\n",
        "plt.show()"
      ]
    },
    {
      "cell_type": "code",
      "source": [],
      "metadata": {
        "id": "oxsr3TUYMsX6"
      },
      "id": "oxsr3TUYMsX6",
      "execution_count": null,
      "outputs": []
    },
    {
      "cell_type": "code",
      "execution_count": 10,
      "id": "c57abf83",
      "metadata": {
        "id": "c57abf83"
      },
      "outputs": [],
      "source": [
        "#Animation.save('Rebote.gif', writer='pillow',fps=30)"
      ]
    },
    {
      "cell_type": "code",
      "execution_count": 19,
      "id": "c5812ac9",
      "metadata": {
        "id": "c5812ac9"
      },
      "outputs": [],
      "source": [
        "Mom = Particles[0].GetMomentum(scale)\n",
        "for i in range(1,len(Particles)):\n",
        "    Mom = np.add(Mom,Particles[i].GetMomentum(scale))"
      ]
    },
    {
      "cell_type": "code",
      "execution_count": 24,
      "id": "089b50b5",
      "metadata": {
        "colab": {
          "base_uri": "https://localhost:8080/",
          "height": 253
        },
        "id": "089b50b5",
        "outputId": "00996009-8db2-4453-d552-44ded1405111"
      },
      "outputs": [
        {
          "output_type": "execute_result",
          "data": {
            "text/plain": [
              "<matplotlib.legend.Legend at 0x7b990074bee0>"
            ]
          },
          "metadata": {},
          "execution_count": 24
        },
        {
          "output_type": "display_data",
          "data": {
            "text/plain": [
              "<Figure size 1000x500 with 1 Axes>"
            ],
            "image/png": "[encoded data removed]"
          },
          "metadata": {}
        }
      ],
      "source": [
        "fig3 = plt.figure(figsize=(10,5))\n",
        "ax3 = fig3.add_subplot(221)\n",
        "ax3.plot(t1,Mom[:,0],label='Momentumx')\n",
        "ax3.plot(t1,Mom[:,1],label='Momentumy')\n",
        "ax3.legend()"
      ]
    },
    {
      "cell_type": "code",
      "execution_count": 13,
      "id": "5928b227",
      "metadata": {
        "colab": {
          "base_uri": "https://localhost:8080/",
          "height": 430
        },
        "id": "5928b227",
        "outputId": "3c099601-680a-4d2f-f14c-b78b0d97e513"
      },
      "outputs": [
        {
          "output_type": "display_data",
          "data": {
            "text/plain": [
              "<Figure size 640x480 with 1 Axes>"
            ],
            "image/png": "[encoded data removed]"
          },
          "metadata": {}
        }
      ],
      "source": [
        "distancia=Particles[0].GetPosition(scale)\n",
        "\n",
        "plt.plot(t1,distancia[:,1])\n",
        "plt.show()\n",
        "#la pelota deja de rebotar después de 23"
      ]
    },
    {
      "cell_type": "code",
      "execution_count": 22,
      "id": "adce5376",
      "metadata": {
        "colab": {
          "base_uri": "https://localhost:8080/"
        },
        "id": "adce5376",
        "outputId": "d967dd68-2865-48f1-bdef-23c4d9f83d3d"
      },
      "outputs": [
        {
          "output_type": "stream",
          "name": "stdout",
          "text": [
            "El factor de amortiguamiento es aproximadamente: 0.931\n"
          ]
        }
      ],
      "source": [
        "\n",
        "y = distancia[:, 1]\n",
        "puntos_maximos = [y[0]]\n",
        "for i in range(1, len(y) - 1):\n",
        "    if y[i - 1] < y[i] and y[i + 1] < y[i]:\n",
        "        puntos_maximos.append(y[i])\n",
        "        break\n",
        "\n",
        "amortiguamiento = (puntos_maximos[0] / puntos_maximos[1]) ** 0.5\n",
        "\n",
        "# Imprimir el resultado\n",
        "print('El factor de amortiguamiento es aproximadamente: {:.3f}'.format(amortiguamiento))\n"
      ]
    }
  ],
  "metadata": {
    "kernelspec": {
      "display_name": "Python 3 (ipykernel)",
      "language": "python",
      "name": "python3"
    },
    "language_info": {
      "codemirror_mode": {
        "name": "ipython",
        "version": 3
      },
      "file_extension": ".py",
      "mimetype": "text/x-python",
      "name": "python",
      "nbconvert_exporter": "python",
      "pygments_lexer": "ipython3",
      "version": "3.11.4"
    },
    "colab": {
      "provenance": []
    }
  },
  "nbformat": 4,
  "nbformat_minor": 5
}